{
 "cells": [
  {
   "cell_type": "code",
   "execution_count": 1,
   "metadata": {},
   "outputs": [],
   "source": [
    "import pandas as pd\n",
    "import os\n",
    "import numpy as np\n",
    "import matplotlib.pyplot as plt\n",
    "import tensorflow as tf\n",
    "from tensorflow.keras.models import Sequential\n",
    "from tensorflow.keras.layers import Activation, Dropout, Flatten, Dense\n",
    "from tensorflow.keras.preprocessing.image import ImageDataGenerator\n",
    "from tensorflow.keras.layers import Convolution2D, MaxPooling2D, ZeroPadding2D\n",
    "from tensorflow.keras import optimizers\n",
    "from tensorflow.keras.preprocessing.image import ImageDataGenerator\n",
    "from tensorflow.keras import backend"
   ]
  },
  {
   "cell_type": "code",
   "execution_count": 2,
   "metadata": {},
   "outputs": [],
   "source": [
    "train_dir = os.path.dirname('/root/Downloads/dog-cat/train/')\n",
    "val_dir = os.path.dirname('/root/Downloads/dog-cat/val_data/')\n"
   ]
  },
  {
   "cell_type": "code",
   "execution_count": 3,
   "metadata": {},
   "outputs": [],
   "source": [
    "img_width = 256\n",
    "img_height = 256\n"
   ]
  },
  {
   "cell_type": "code",
   "execution_count": 4,
   "metadata": {},
   "outputs": [
    {
     "name": "stdout",
     "output_type": "stream",
     "text": [
      "Found 20000 images belonging to 2 classes.\n"
     ]
    }
   ],
   "source": [
    "\n",
    "train_datagen = ImageDataGenerator(rescale=1./255)\n",
    "\n",
    "train_generator = train_datagen.flow_from_directory(train_dir,classes=['cat', 'dog'], class_mode = 'binary',batch_size = 50)"
   ]
  },
  {
   "cell_type": "code",
   "execution_count": 5,
   "metadata": {},
   "outputs": [
    {
     "name": "stdout",
     "output_type": "stream",
     "text": [
      "Found 5000 images belonging to 2 classes.\n"
     ]
    }
   ],
   "source": [
    "val_generator = train_datagen.flow_from_directory(val_dir,class_mode = 'binary',batch_size = 32)\n"
   ]
  },
  {
   "cell_type": "code",
   "execution_count": 6,
   "metadata": {},
   "outputs": [],
   "source": [
    "model = Sequential()\n",
    "model.add(Convolution2D(32,3,3,input_shape = (img_width,img_height,3)))\n",
    "model.add(Activation('relu'))\n",
    "model.add(MaxPooling2D(pool_size=(2,2)))\n",
    "\n",
    "model.add(Convolution2D(32,3,3))\n",
    "model.add(Activation('relu'))\n",
    "model.add(MaxPooling2D(pool_size=(2,2)))\n",
    "\n",
    "model.add(Convolution2D(64,3,3))\n",
    "model.add(Activation('relu'))\n",
    "model.add(MaxPooling2D(pool_size=(2,2)))\n",
    "\n",
    "model.add(Flatten())\n",
    "model.add(Dense(64))\n",
    "model.add(Activation('relu'))\n",
    "#model.add(Dropout(0.5))\n",
    "model.add(Dense(1))\n",
    "model.add(Activation('sigmoid'))\n"
   ]
  },
  {
   "cell_type": "code",
   "execution_count": 7,
   "metadata": {},
   "outputs": [],
   "source": [
    "model.compile(loss='binary_crossentropy',\n",
    "              optimizer='rmsprop',\n",
    "              metrics=['accuracy'])\n"
   ]
  },
  {
   "cell_type": "code",
   "execution_count": 8,
   "metadata": {
    "scrolled": false
   },
   "outputs": [
    {
     "name": "stdout",
     "output_type": "stream",
     "text": [
      "Epoch 1/20\n",
      "2000/2000 [==============================] - 509s 255ms/step - loss: 0.5994 - accuracy: 0.6686 - val_loss: 0.5259 - val_accuracy: 0.7374\n",
      "Epoch 2/20\n",
      "2000/2000 [==============================] - 435s 217ms/step - loss: 0.4841 - accuracy: 0.7636 - val_loss: 0.5623 - val_accuracy: 0.7146\n",
      "Epoch 3/20\n",
      "2000/2000 [==============================] - 424s 212ms/step - loss: 0.3988 - accuracy: 0.8162 - val_loss: 0.5643 - val_accuracy: 0.7464\n",
      "Epoch 4/20\n",
      "2000/2000 [==============================] - 438s 219ms/step - loss: 0.3213 - accuracy: 0.8587 - val_loss: 0.5991 - val_accuracy: 0.7439\n",
      "Epoch 5/20\n",
      "2000/2000 [==============================] - 450s 225ms/step - loss: 0.2540 - accuracy: 0.8921 - val_loss: 0.7636 - val_accuracy: 0.7424\n",
      "Epoch 6/20\n",
      "2000/2000 [==============================] - 431s 215ms/step - loss: 0.1948 - accuracy: 0.9197 - val_loss: 0.9865 - val_accuracy: 0.7184\n",
      "Epoch 7/20\n",
      "2000/2000 [==============================] - 427s 214ms/step - loss: 0.1488 - accuracy: 0.9406 - val_loss: 1.4572 - val_accuracy: 0.6940\n",
      "Epoch 8/20\n",
      "2000/2000 [==============================] - 1545s 772ms/step - loss: 0.1188 - accuracy: 0.9541 - val_loss: 1.2908 - val_accuracy: 0.7392\n",
      "Epoch 9/20\n",
      "2000/2000 [==============================] - 425s 213ms/step - loss: 0.0951 - accuracy: 0.9654 - val_loss: 1.3709 - val_accuracy: 0.7454\n",
      "Epoch 10/20\n",
      "2000/2000 [==============================] - 452s 226ms/step - loss: 0.0790 - accuracy: 0.9712 - val_loss: 1.6651 - val_accuracy: 0.7381\n",
      "Epoch 11/20\n",
      "2000/2000 [==============================] - 460s 230ms/step - loss: 0.0697 - accuracy: 0.9762 - val_loss: 1.7635 - val_accuracy: 0.7353\n",
      "Epoch 12/20\n",
      "2000/2000 [==============================] - 452s 226ms/step - loss: 0.0611 - accuracy: 0.9789 - val_loss: 1.9336 - val_accuracy: 0.7340\n",
      "Epoch 13/20\n",
      "2000/2000 [==============================] - 447s 224ms/step - loss: 0.0570 - accuracy: 0.9813 - val_loss: 2.2029 - val_accuracy: 0.7350\n",
      "Epoch 14/20\n",
      "2000/2000 [==============================] - 466s 233ms/step - loss: 0.0499 - accuracy: 0.9835 - val_loss: 2.1242 - val_accuracy: 0.7370\n",
      "Epoch 15/20\n",
      "2000/2000 [==============================] - 518s 259ms/step - loss: 0.0471 - accuracy: 0.9852 - val_loss: 2.2344 - val_accuracy: 0.7323\n",
      "Epoch 16/20\n",
      "2000/2000 [==============================] - 507s 254ms/step - loss: 0.0424 - accuracy: 0.9862 - val_loss: 2.5003 - val_accuracy: 0.7416\n",
      "Epoch 17/20\n",
      "2000/2000 [==============================] - 500s 250ms/step - loss: 0.0438 - accuracy: 0.9867 - val_loss: 2.2824 - val_accuracy: 0.7221\n",
      "Epoch 18/20\n",
      "2000/2000 [==============================] - 497s 249ms/step - loss: 0.0373 - accuracy: 0.9877 - val_loss: 2.6646 - val_accuracy: 0.7369\n",
      "Epoch 19/20\n",
      "2000/2000 [==============================] - 521s 261ms/step - loss: 0.0379 - accuracy: 0.9884 - val_loss: 2.5062 - val_accuracy: 0.7334\n",
      "Epoch 20/20\n",
      "2000/2000 [==============================] - 530s 265ms/step - loss: 0.0359 - accuracy: 0.9889 - val_loss: 2.6388 - val_accuracy: 0.7319\n"
     ]
    },
    {
     "data": {
      "text/plain": [
       "<tensorflow.python.keras.callbacks.History at 0x7f740844cac8>"
      ]
     },
     "execution_count": 8,
     "metadata": {},
     "output_type": "execute_result"
    }
   ],
   "source": [
    "model.fit_generator(\n",
    "        train_generator,\n",
    "        steps_per_epoch=2000,\n",
    "        epochs=20,\n",
    "        validation_data=val_generator,\n",
    "        validation_steps=800)\n"
   ]
  },
  {
   "cell_type": "code",
   "execution_count": 25,
   "metadata": {},
   "outputs": [],
   "source": [
    "# import h5py\n",
    "# model.save_weights('models/cnn.h5')"
   ]
  },
  {
   "cell_type": "markdown",
   "metadata": {},
   "source": [
    "from tensorflow.keras.models import model_from_json\n",
    "model_json = model.to_json()\n",
    "with open(\"model.json\", \"w\") as json_file:\n",
    "    json_file.write(model_json)\n",
    "\n",
    "model.save_weights(\"model.h5\")\n",
    "print(\"Saved model to disk\")"
   ]
  },
  {
   "cell_type": "code",
   "execution_count": 26,
   "metadata": {},
   "outputs": [],
   "source": [
    "from tensorflow.keras.models import model_from_json\n"
   ]
  },
  {
   "cell_type": "code",
   "execution_count": 27,
   "metadata": {},
   "outputs": [
    {
     "name": "stdout",
     "output_type": "stream",
     "text": [
      "Saved model to disk\n"
     ]
    }
   ],
   "source": [
    "model_json = model.to_json()\n",
    "with open(\"model.json\", \"w\") as json_file:\n",
    "    json_file.write(model_json)\n",
    "# serialize weights to HDF5\n",
    "model.save_weights(\"model.h5\")\n",
    "print(\"Saved model to disk\")"
   ]
  },
  {
   "cell_type": "code",
   "execution_count": 28,
   "metadata": {},
   "outputs": [
    {
     "name": "stdout",
     "output_type": "stream",
     "text": [
      "Loaded model from disk\n"
     ]
    }
   ],
   "source": [
    "json_file = open('model.json', 'r')\n",
    "loaded_model_json = json_file.read()\n",
    "json_file.close()\n",
    "loaded_model = model_from_json(loaded_model_json)\n",
    "# load weights into new model\n",
    "loaded_model.load_weights(\"model.h5\")\n",
    "print(\"Loaded model from disk\")"
   ]
  },
  {
   "cell_type": "code",
   "execution_count": 40,
   "metadata": {},
   "outputs": [
    {
     "name": "stdout",
     "output_type": "stream",
     "text": [
      "Found 12500 images belonging to 1 classes.\n"
     ]
    }
   ],
   "source": [
    "test_dir = os.path.dirname('/root/Downloads/dog-cat/test/')\n",
    "test_generator = train_datagen.flow_from_directory(test_dir,class_mode = 'binary',batch_size = 32)\n"
   ]
  },
  {
   "cell_type": "code",
   "execution_count": 42,
   "metadata": {},
   "outputs": [],
   "source": [
    "loaded_model.compile(loss='binary_crossentropy', optimizer='rmsprop', metrics=['accuracy'])\n",
    "predict = loaded_model.predict_generator(test_generator, steps=None, callbacks=None, max_queue_size=10, workers=1, use_multiprocessing=False, verbose=0)\n"
   ]
  },
  {
   "cell_type": "code",
   "execution_count": 45,
   "metadata": {
    "scrolled": true
   },
   "outputs": [
    {
     "name": "stdout",
     "output_type": "stream",
     "text": [
      "[[1.0000000e+00]\n",
      " [5.1931083e-01]\n",
      " [5.9604645e-08]\n",
      " ...\n",
      " [1.0000000e+00]\n",
      " [9.9997437e-01]\n",
      " [8.1960142e-01]]\n"
     ]
    }
   ],
   "source": [
    "print(predict)"
   ]
  },
  {
   "cell_type": "code",
   "execution_count": 47,
   "metadata": {},
   "outputs": [
    {
     "data": {
      "text/html": [
       "<div>\n",
       "<style scoped>\n",
       "    .dataframe tbody tr th:only-of-type {\n",
       "        vertical-align: middle;\n",
       "    }\n",
       "\n",
       "    .dataframe tbody tr th {\n",
       "        vertical-align: top;\n",
       "    }\n",
       "\n",
       "    .dataframe thead th {\n",
       "        text-align: right;\n",
       "    }\n",
       "</style>\n",
       "<table border=\"1\" class=\"dataframe\">\n",
       "  <thead>\n",
       "    <tr style=\"text-align: right;\">\n",
       "      <th></th>\n",
       "      <th>id</th>\n",
       "      <th>label</th>\n",
       "    </tr>\n",
       "  </thead>\n",
       "  <tbody>\n",
       "    <tr>\n",
       "      <th>0</th>\n",
       "      <td>1</td>\n",
       "      <td>0</td>\n",
       "    </tr>\n",
       "    <tr>\n",
       "      <th>1</th>\n",
       "      <td>2</td>\n",
       "      <td>0</td>\n",
       "    </tr>\n",
       "    <tr>\n",
       "      <th>2</th>\n",
       "      <td>3</td>\n",
       "      <td>0</td>\n",
       "    </tr>\n",
       "    <tr>\n",
       "      <th>3</th>\n",
       "      <td>4</td>\n",
       "      <td>0</td>\n",
       "    </tr>\n",
       "    <tr>\n",
       "      <th>4</th>\n",
       "      <td>5</td>\n",
       "      <td>0</td>\n",
       "    </tr>\n",
       "  </tbody>\n",
       "</table>\n",
       "</div>"
      ],
      "text/plain": [
       "   id  label\n",
       "0   1      0\n",
       "1   2      0\n",
       "2   3      0\n",
       "3   4      0\n",
       "4   5      0"
      ]
     },
     "execution_count": 47,
     "metadata": {},
     "output_type": "execute_result"
    }
   ],
   "source": [
    "import pandas as pd\n",
    "sub = pd.read_csv(\"/root/Downloads/dog-cat/sampleSubmission.csv\")\n",
    "sub.head()"
   ]
  },
  {
   "cell_type": "code",
   "execution_count": 49,
   "metadata": {},
   "outputs": [
    {
     "data": {
      "text/html": [
       "<div>\n",
       "<style scoped>\n",
       "    .dataframe tbody tr th:only-of-type {\n",
       "        vertical-align: middle;\n",
       "    }\n",
       "\n",
       "    .dataframe tbody tr th {\n",
       "        vertical-align: top;\n",
       "    }\n",
       "\n",
       "    .dataframe thead th {\n",
       "        text-align: right;\n",
       "    }\n",
       "</style>\n",
       "<table border=\"1\" class=\"dataframe\">\n",
       "  <thead>\n",
       "    <tr style=\"text-align: right;\">\n",
       "      <th></th>\n",
       "      <th>id</th>\n",
       "      <th>label</th>\n",
       "    </tr>\n",
       "  </thead>\n",
       "  <tbody>\n",
       "    <tr>\n",
       "      <th>0</th>\n",
       "      <td>1</td>\n",
       "      <td>1.000000e+00</td>\n",
       "    </tr>\n",
       "    <tr>\n",
       "      <th>1</th>\n",
       "      <td>2</td>\n",
       "      <td>5.193108e-01</td>\n",
       "    </tr>\n",
       "    <tr>\n",
       "      <th>2</th>\n",
       "      <td>3</td>\n",
       "      <td>5.960464e-08</td>\n",
       "    </tr>\n",
       "    <tr>\n",
       "      <th>3</th>\n",
       "      <td>4</td>\n",
       "      <td>1.000000e+00</td>\n",
       "    </tr>\n",
       "    <tr>\n",
       "      <th>4</th>\n",
       "      <td>5</td>\n",
       "      <td>9.988003e-01</td>\n",
       "    </tr>\n",
       "  </tbody>\n",
       "</table>\n",
       "</div>"
      ],
      "text/plain": [
       "   id         label\n",
       "0   1  1.000000e+00\n",
       "1   2  5.193108e-01\n",
       "2   3  5.960464e-08\n",
       "3   4  1.000000e+00\n",
       "4   5  9.988003e-01"
      ]
     },
     "execution_count": 49,
     "metadata": {},
     "output_type": "execute_result"
    }
   ],
   "source": [
    "sub.label = predict\n",
    "sub.head()"
   ]
  },
  {
   "cell_type": "code",
   "execution_count": 50,
   "metadata": {},
   "outputs": [],
   "source": [
    "sub.to_csv(\"/root/Downloads/dog-cat/sampleSubmission.csv\",index=False)"
   ]
  },
  {
   "cell_type": "code",
   "execution_count": null,
   "metadata": {},
   "outputs": [],
   "source": []
  }
 ],
 "metadata": {
  "kernelspec": {
   "display_name": "Python 3",
   "language": "python",
   "name": "python3"
  },
  "language_info": {
   "codemirror_mode": {
    "name": "ipython",
    "version": 3
   },
   "file_extension": ".py",
   "mimetype": "text/x-python",
   "name": "python",
   "nbconvert_exporter": "python",
   "pygments_lexer": "ipython3",
   "version": "3.7.3"
  }
 },
 "nbformat": 4,
 "nbformat_minor": 2
}
